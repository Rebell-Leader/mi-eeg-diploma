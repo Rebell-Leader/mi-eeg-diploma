{
 "cells": [
  {
   "cell_type": "code",
   "execution_count": 1,
   "metadata": {},
   "outputs": [],
   "source": [
    "import numpy as np\n",
    "import torch\n",
    "import os\n",
    "import sys\n",
    "sys.path.append(os.path.join(os.path.split(os.getcwd())[0],'data_loader'))\n",
    "# from data import DataBuildClassifier\n",
    "from bg.data_proj_pursuit_v2 import DataProjPursuit_v2 as DataBuildClassifier\n",
    "from src.model_torch import EEGNet_experimental\n",
    "from scipy.signal import welch\n",
    "from scipy.fftpack import fft,rfft, fftshift, fftfreq, rfftfreq\n",
    "import mne\n",
    "import matplotlib.pyplot as plt\n",
    "import matplotlib\n",
    "%matplotlib inline"
   ]
  },
  {
   "cell_type": "code",
   "execution_count": 2,
   "metadata": {},
   "outputs": [],
   "source": [
    "params = {'resample_to': 369,\n",
    "                 'D': 3,\n",
    "                 'F1': 12,\n",
    "                 'dropoutRate1': 0.52,\n",
    "                 'dropoutRate2': 0.36,\n",
    "                 'lr': 0.00066,\n",
    "                 }"
   ]
  },
  {
   "cell_type": "code",
   "execution_count": 3,
   "metadata": {},
   "outputs": [],
   "source": [
    "# model = torch.load('/home/likan_blk/BCI/eegnet_torch/res/cv_simple_ebci_torch/EEGNET_v4/25/naive_model')\n",
    "model = torch.load('./res/cv_simple_ebci_torch/EEGNET_v4/25/naive_model')"
   ]
  },
  {
   "cell_type": "code",
   "execution_count": 4,
   "metadata": {},
   "outputs": [
    {
     "name": "stdout",
     "output_type": "stream",
     "text": [
      "[[[  6132.56899121   6106.91963261   6114.23528245 ...   3167.0335267\n",
      "     3115.40139072   3128.03050884]\n",
      "  [ -4435.91337818  -4492.50355724  -4481.32415117 ...  -5420.40952411\n",
      "    -5433.64923536  -5408.46851658]\n",
      "  [  1097.25431097   1066.44850444   1085.12809166 ...   -784.47003199\n",
      "     -781.84863052   -785.18014418]\n",
      "  ...\n",
      "  [-11381.6070643  -11402.47969836 -11382.40944467 ...  -9247.46589201\n",
      "    -9258.34901681  -9224.0126583 ]\n",
      "  [  1423.38210871   1394.5912434    1406.20361474 ...    546.62752406\n",
      "      534.90691203    568.07153625]\n",
      "  [  4038.18554745   4000.58624933   4004.65807642 ...   2001.0432259\n",
      "     1989.29209594   2001.96414597]]\n",
      "\n",
      " [[  6132.89080513   6106.18423481   6112.6064757  ...   3165.80144977\n",
      "     3113.91501289   3127.88274593]\n",
      "  [ -4435.57113423  -4493.30815206  -4481.71026494 ...  -5421.8056273\n",
      "    -5435.00009277  -5408.72808242]\n",
      "  [  1098.07054177   1066.55256633   1083.82088027 ...   -786.09204373\n",
      "     -783.6215538    -785.57604026]\n",
      "  ...\n",
      "  [-11381.522337   -11403.14206319 -11381.45327888 ...  -9248.90885472\n",
      "    -9259.62365535  -9224.83144093]\n",
      "  [  1423.49360863   1394.17023593   1408.09996046 ...    545.34558592\n",
      "      533.49480107    567.32694378]\n",
      "  [  4037.36222312   3998.94072307   4004.64946337 ...   1999.64380971\n",
      "     1988.22875794   2001.3014729 ]]\n",
      "\n",
      " [[  6133.26004053   6105.31752308   6110.86956951 ...   3165.50077864\n",
      "     3112.63099738   3128.05796259]\n",
      "  [ -4435.34472757  -4493.94446076  -4482.32885693 ...  -5422.50716787\n",
      "    -5435.83566325  -5408.80493911]\n",
      "  [  1098.92952413   1066.56648687   1082.32165883 ...   -786.75335273\n",
      "     -785.11094419   -785.27518664]\n",
      "  ...\n",
      "  [-11381.09125956 -11403.53894098 -11380.38993773 ...  -9249.69473844\n",
      "    -9260.54142916  -9225.14784753]\n",
      "  [  1424.12748076   1393.70538392   1410.10147904 ...    544.68302743\n",
      "      532.29593222    566.91360075]\n",
      "  [  4037.30179356   3997.94101306   4005.31595042 ...   1998.87530706\n",
      "     1987.37236887   2001.00564757]]\n",
      "\n",
      " ...\n",
      "\n",
      " [[  6129.32996597   6117.92058942   6149.61118323 ...   3168.39385599\n",
      "     3121.66863129   3194.58952822]\n",
      "  [ -4454.20278101  -4483.43916532  -4453.29423438 ...  -5403.50701339\n",
      "    -5429.79332368  -5371.69710232]\n",
      "  [  1085.16249068   1097.51582053   1112.79533147 ...   -763.63861784\n",
      "     -774.2672417    -737.13047952]\n",
      "  ...\n",
      "  [-11401.94651243 -11389.47949348 -11353.49174902 ...  -9265.03831747\n",
      "    -9249.47966209  -9191.1027286 ]\n",
      "  [  1389.64155671   1402.54397911   1435.95599596 ...    531.12726223\n",
      "      542.14820908    593.25668035]\n",
      "  [  4001.30031456   4012.23755071   4034.80085071 ...   1985.59381302\n",
      "     1998.84885897   2039.35186646]]\n",
      "\n",
      " [[  6131.19428041   6116.98926101   6148.04347959 ...   3169.65795344\n",
      "     3122.30047566   3194.29585691]\n",
      "  [ -4452.68672395  -4484.41089532  -4455.29512263 ...  -5402.2046724\n",
      "    -5429.23912656  -5371.62993286]\n",
      "  [  1086.97988596   1097.12620729   1112.15466932 ...   -762.8279658\n",
      "     -774.5318199    -737.27509258]\n",
      "  ...\n",
      "  [-11402.31062759 -11388.89222099 -11353.62713215 ...  -9264.477223\n",
      "    -9247.90233775  -9191.25398637]\n",
      "  [  1389.94024612   1404.03936804   1435.49684357 ...    531.87729919\n",
      "      542.98287323    593.17262191]\n",
      "  [  3999.85496316   4012.88322247   4034.95018057 ...   1986.28376755\n",
      "     2001.07914093   2039.84149236]]\n",
      "\n",
      " [[  6133.31637365   6116.39615954   6147.14462583 ...   3170.74367032\n",
      "     3122.54589691   3194.18335896]\n",
      "  [ -4451.37858091  -4485.14617577  -4456.92290019 ...  -5400.53414686\n",
      "    -5429.00767144  -5371.32339625]\n",
      "  [  1089.17174895   1096.92661845   1112.13143381 ...   -762.00816499\n",
      "     -775.08198344   -737.44909114]\n",
      "  ...\n",
      "  [-11402.49161884 -11388.5315358  -11353.99067499 ...  -9262.90797809\n",
      "    -9247.40041374  -9191.3626963 ]\n",
      "  [  1390.18971726   1405.21412791   1435.12812674 ...    533.19532166\n",
      "      543.16711919    593.30498781]\n",
      "  [  3998.89137475   4012.77007064   4034.46371205 ...   1987.90757571\n",
      "     2001.92403385   2039.93762868]]]\n",
      "(750, 19, 284)\n",
      "[650, 651, 652, 653, 654, 655, 656, 657, 658, 659, 660, 661, 662, 663, 664, 665, 666, 667, 668, 669, 670, 671, 672, 673, 674, 675, 676, 677, 678, 679, 680, 681, 682, 683, 684, 685, 686, 687, 688, 689, 690, 691, 692, 693, 694, 695, 696, 697, 698, 699]\n"
     ]
    },
    {
     "name": "stderr",
     "output_type": "stream",
     "text": [
      "E:\\MIPT\\kurchatov\\diploma\\ZHAO\\bg\\data_proj_pursuit_v2.py:18: RuntimeWarning: Mean of empty slice.\n",
      "  baseline = np.expand_dims(X[:, bl_start:bl_end, :].mean(axis=1), axis=1)\n",
      "C:\\Users\\vaa09\\anaconda3\\envs\\nlp_course\\lib\\site-packages\\numpy\\core\\_methods.py:78: RuntimeWarning: invalid value encountered in true_divide\n",
      "  ret, rcount, out=ret, casting='unsafe', subok=False)\n"
     ]
    }
   ],
   "source": [
    "# data = DataBuildClassifier('/home/likan_blk/BCI/NewData')\n",
    "data = DataBuildClassifier('../new_data')\n",
    "# all_subjects = [25, 26, 27, 28, 29, 30, 32, 33, 34, 35, 36, 37, 38]\n",
    "all_subjects = 30\n",
    "# subjects = data.get_event_data(all_subjects, shuffle=False, window=[(0.2, 0.5)], baseline_window=(0.2, 0.3),\n",
    "#                              resample_to=params['resample_to'], event='eegNT')\n",
    "subjects = data.get_event_data(all_subjects, shuffle=False, window=[0.1, 0.2], baseline_window=(0.2, 0.3),\n",
    "                             event='eegT')"
   ]
  },
  {
   "cell_type": "code",
   "execution_count": 5,
   "metadata": {},
   "outputs": [
    {
     "ename": "ValueError",
     "evalue": "axes don't match array",
     "output_type": "error",
     "traceback": [
      "\u001B[1;31m---------------------------------------------------------------------------\u001B[0m",
      "\u001B[1;31mValueError\u001B[0m                                Traceback (most recent call last)",
      "\u001B[1;32m<ipython-input-5-0ccf06523ce2>\u001B[0m in \u001B[0;36m<module>\u001B[1;34m()\u001B[0m\n\u001B[0;32m      1\u001B[0m \u001B[1;33m\u001B[0m\u001B[0m\n\u001B[0;32m      2\u001B[0m \u001B[0mx\u001B[0m\u001B[1;33m,\u001B[0m\u001B[0my\u001B[0m \u001B[1;33m=\u001B[0m \u001B[0msubjects\u001B[0m\u001B[1;33m[\u001B[0m\u001B[1;36m25\u001B[0m\u001B[1;33m]\u001B[0m\u001B[1;33m[\u001B[0m\u001B[1;36m0\u001B[0m\u001B[1;33m]\u001B[0m\u001B[1;33m,\u001B[0m \u001B[0msubjects\u001B[0m\u001B[1;33m[\u001B[0m\u001B[1;36m25\u001B[0m\u001B[1;33m]\u001B[0m\u001B[1;33m[\u001B[0m\u001B[1;36m1\u001B[0m\u001B[1;33m]\u001B[0m\u001B[1;33m\u001B[0m\u001B[1;33m\u001B[0m\u001B[0m\n\u001B[1;32m----> 3\u001B[1;33m \u001B[0mx\u001B[0m \u001B[1;33m=\u001B[0m \u001B[0mx\u001B[0m\u001B[1;33m.\u001B[0m\u001B[0mtranspose\u001B[0m\u001B[1;33m(\u001B[0m\u001B[1;36m0\u001B[0m\u001B[1;33m,\u001B[0m\u001B[1;36m2\u001B[0m\u001B[1;33m,\u001B[0m\u001B[1;36m1\u001B[0m\u001B[1;33m)\u001B[0m\u001B[1;33m[\u001B[0m\u001B[1;33m:\u001B[0m\u001B[1;33m,\u001B[0m\u001B[0mnp\u001B[0m\u001B[1;33m.\u001B[0m\u001B[0mnewaxis\u001B[0m\u001B[1;33m,\u001B[0m\u001B[1;33m:\u001B[0m\u001B[1;33m,\u001B[0m\u001B[1;33m:\u001B[0m\u001B[1;33m]\u001B[0m\u001B[1;33m\u001B[0m\u001B[1;33m\u001B[0m\u001B[0m\n\u001B[0m\u001B[0;32m      4\u001B[0m \u001B[1;33m\u001B[0m\u001B[0m\n",
      "\u001B[1;31mValueError\u001B[0m: axes don't match array"
     ]
    }
   ],
   "source": [
    "x,y = subjects[25][0], subjects[25][1]\n",
    "x = x.transpose(0,2,1)[:,np.newaxis,:,:]"
   ]
  },
  {
   "cell_type": "code",
   "execution_count": null,
   "metadata": {},
   "outputs": [],
   "source": [
    "kernLength1 = params.get('kernLength1',64)\n",
    "kernLength2 = params.get('kernLength2',16)\n",
    "F2 = params.get('F2',params['F1']*params['D'])\n",
    "model = EEGNet_experimental(nb_classes=2, Chans=subjects[25][0].shape[2], Samples = subjects[25][0].shape[1],\n",
    "                               dropoutRates=(params['dropoutRate1'], params['dropoutRate1']),\n",
    "                               kernLength1=kernLength1, kernLength2=kernLength2, poolKern1=4,\n",
    "                               poolKern2=8,\n",
    "                               F1=params['F1'],\n",
    "                               D=params['D'], F2=F2)\n",
    "model.load_state_dict(torch.load('/home/likan_blk/BCI/eegnet_torch/res/cv_simple_ebci_torch/EEGNET_v4/25/naive_model'))"
   ]
  },
  {
   "cell_type": "code",
   "execution_count": null,
   "metadata": {},
   "outputs": [],
   "source": [
    "spatial_filters = model.depthwise1.weight.cpu().detach().numpy()"
   ]
  },
  {
   "cell_type": "code",
   "execution_count": null,
   "metadata": {},
   "outputs": [],
   "source": [
    "def read_info(path_to_file):\n",
    "    with open(path_to_file,'r') as f:\n",
    "        content = f.readlines()\n",
    "    content = content[1:]\n",
    "    print(len(content))\n",
    "    res = np.zeros((len(content),2))\n",
    "    for i in range(len(content)):\n",
    "        splt_line = content[i].split()\n",
    "        res[i,0] = np.pi*float(splt_line[1])/180 + np.pi/2\n",
    "        res[i,1] = float(splt_line[2])\n",
    "    return res\n",
    "info = read_info('/home/likan_blk/BCI/NewData/order&locations.info')"
   ]
  },
  {
   "cell_type": "code",
   "execution_count": null,
   "metadata": {},
   "outputs": [],
   "source": [
    "plt.polar(info[:,0],info[:,1],'ro')"
   ]
  },
  {
   "cell_type": "code",
   "execution_count": null,
   "metadata": {},
   "outputs": [],
   "source": [
    "def pol2cart(phi,r ):\n",
    "    x = r * np.cos(phi)\n",
    "    y = r * np.sin(phi)\n",
    "    return np.vstack((x, y)).T\n",
    "cort_info = pol2cart(info[:,0], info[:,1])\n",
    "\n",
    "plt.scatter(cort_info[:,0],cort_info[:,1])"
   ]
  },
  {
   "cell_type": "code",
   "execution_count": null,
   "metadata": {},
   "outputs": [],
   "source": [
    "spatial_filters.shape"
   ]
  },
  {
   "cell_type": "code",
   "execution_count": null,
   "metadata": {
    "scrolled": false
   },
   "outputs": [],
   "source": [
    "mne.viz.plot_topomap(spatial_filters[0,0,:,0],cort_info)\n",
    "# mne.viz.plot_topomap(spatial_filters[1,0,:,0],cort_info)\n",
    "# mne.viz.plot_topomap(spatial_filters[2,0,:,0],cort_info)\n",
    "# mne.viz.plot_topomap(spatial_filters[3,0,:,0],cort_info)\n",
    "# mne.viz.plot_topomap(spatial_filters[4,0,:,0],cort_info)\n",
    "# mne.viz.plot_topomap(spatial_filters[5,0,:,0],cort_info)\n",
    "# mne.viz.plot_topomap(spatial_filters[6,0,:,0],cort_info)"
   ]
  },
  {
   "cell_type": "code",
   "execution_count": null,
   "metadata": {},
   "outputs": [],
   "source": [
    "first_output = model.conv1(torch.Tensor(torch.Tensor(x)))\n",
    "first_output.shape"
   ]
  },
  {
   "cell_type": "code",
   "execution_count": null,
   "metadata": {},
   "outputs": [],
   "source": [
    "weights = model.conv1.weight.detach().cpu().numpy()[:,0,0,:]"
   ]
  },
  {
   "cell_type": "code",
   "execution_count": null,
   "metadata": {},
   "outputs": [],
   "source": [
    "weights.shape"
   ]
  },
  {
   "cell_type": "code",
   "execution_count": null,
   "metadata": {},
   "outputs": [],
   "source": [
    "yf = fft(weights[4,:])\n",
    "xf = fftfreq(weights.shape[1], 1/params['resample_to'])\n",
    "xf = fftshift(xf)\n",
    "yplot = fftshift(yf)\n",
    "plt.plot(xf, 1.0/weights.shape[1] * np.abs(yplot))"
   ]
  },
  {
   "cell_type": "code",
   "execution_count": null,
   "metadata": {},
   "outputs": [],
   "source": [
    "fft(weights[4,:])"
   ]
  },
  {
   "cell_type": "code",
   "execution_count": null,
   "metadata": {},
   "outputs": [],
   "source": [
    "rfft(weights[4,:])"
   ]
  },
  {
   "cell_type": "code",
   "execution_count": null,
   "metadata": {},
   "outputs": [],
   "source": []
  }
 ],
 "metadata": {
  "kernelspec": {
   "name": "pycharm-78350698",
   "language": "python",
   "display_name": "PyCharm (nlp)"
  },
  "language_info": {
   "codemirror_mode": {
    "name": "ipython",
    "version": 3
   },
   "file_extension": ".py",
   "mimetype": "text/x-python",
   "name": "python",
   "nbconvert_exporter": "python",
   "pygments_lexer": "ipython3",
   "version": "3.7.4"
  }
 },
 "nbformat": 4,
 "nbformat_minor": 2
}