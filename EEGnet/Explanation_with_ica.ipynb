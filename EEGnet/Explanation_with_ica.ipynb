{
 "cells": [
  {
   "cell_type": "code",
   "execution_count": 1,
   "metadata": {},
   "outputs": [],
   "source": [
    "import numpy as np\n",
    "import torch\n",
    "import os\n",
    "import sys\n",
    "sys.path.append(os.path.join(os.path.split(os.getcwd())[0],'data_loader'))\n",
    "# from data import DataBuildClassifier\n",
    "from data_proj_pursuit_v2 import DataProjPursuit_v2 as DataBuildClassifier\n",
    "from src.model_torch import EEGNet_experimental\n",
    "from scipy.signal import welch\n",
    "from scipy.fftpack import fft,rfft, fftshift, fftfreq, rfftfreq\n",
    "import mne\n",
    "import matplotlib.pyplot as plt\n",
    "import matplotlib\n",
    "%matplotlib inline"
   ]
  },
  {
   "cell_type": "code",
   "execution_count": 2,
   "metadata": {},
   "outputs": [],
   "source": [
    "params = {'resample_to': 369,\n",
    "                 'D': 3,\n",
    "                 'F1': 12,\n",
    "                 'dropoutRate1': 0.52,\n",
    "                 'dropoutRate2': 0.36,\n",
    "                 'lr': 0.00066,\n",
    "                 }"
   ]
  },
  {
   "cell_type": "code",
   "execution_count": 3,
   "metadata": {},
   "outputs": [],
   "source": [
    "model = torch.load('./res/cv_simple_ebci_torch/EEGNET_v4/25/naive_model')"
   ]
  },
  {
   "cell_type": "code",
   "execution_count": 4,
   "metadata": {},
   "outputs": [
    {
     "name": "stdout",
     "output_type": "stream",
     "text": [
      "[[[ -3481.1763    2047.349   -13461.08    ...  -5195.442      849.28186\n",
      "      373.25146]\n",
      "  [ -3481.736     2047.2211  -13461.07    ...  -5194.8423     849.14856\n",
      "      373.1648 ]\n",
      "  [ -3482.0544    2047.1826  -13461.095   ...  -5194.407      849.05646\n",
      "      373.06348]\n",
      "  ...\n",
      "  [ -3472.8638    2037.4833  -13467.799   ...  -5202.176      850.1035\n",
      "      372.67627]\n",
      "  [ -3473.074     2037.2439  -13468.912   ...  -5203.991      850.357\n",
      "      373.9878 ]\n",
      "  [ -3473.472     2036.8348  -13470.133   ...  -5205.8096     850.60645\n",
      "      375.50708]]\n",
      "\n",
      " [[ -3478.1277    2038.1078  -13492.848   ...  -5251.503      854.55426\n",
      "      390.56982]\n",
      "  [ -3478.377     2037.6954  -13493.366   ...  -5251.821      854.7278\n",
      "      391.58545]\n",
      "  [ -3478.5427    2037.4288  -13493.736   ...  -5251.9346     854.8607\n",
      "      392.48047]\n",
      "  ...\n",
      "  [ -3473.8638    2017.0746  -13536.929   ...  -5285.967      860.5416\n",
      "      426.9922 ]\n",
      "  [ -3472.4265    2018.2509  -13536.2     ...  -5285.2046     860.46533\n",
      "      425.90015]\n",
      "  [ -3470.6887    2019.6361  -13535.457   ...  -5284.2754     860.3958\n",
      "      424.59082]]\n",
      "\n",
      " [[ -3501.3975    1988.8558  -13559.87    ...  -5293.472      862.32446\n",
      "      443.437  ]\n",
      "  [ -3501.6604    1989.0603  -13559.973   ...  -5294.444      862.38403\n",
      "      444.4607 ]\n",
      "  [ -3501.756     1989.398   -13559.717   ...  -5295.1406     862.38806\n",
      "      445.29614]\n",
      "  ...\n",
      "  [ -3440.6177    2041.7562  -13510.63    ...  -5237.753      856.5701\n",
      "      381.27954]\n",
      "  [ -3440.4963    2041.8112  -13510.189   ...  -5237.435      856.5105\n",
      "      381.0393 ]\n",
      "  [ -3440.1675    2042.0653  -13509.503   ...  -5237.4263     856.45667\n",
      "      380.77246]]\n",
      "\n",
      " ...\n",
      "\n",
      " [[ -5754.0312    1436.388   -13186.779   ...  -5855.877      845.4652\n",
      "     1866.4475 ]\n",
      "  [ -5754.3613    1435.7435  -13187.314   ...  -5856.12       845.55176\n",
      "     1866.9866 ]\n",
      "  [ -5754.6553    1435.1926  -13187.813   ...  -5856.502      845.6506\n",
      "     1867.4636 ]\n",
      "  ...\n",
      "  [ -5739.467     1448.1808  -13170.176   ...  -5850.122      845.1653\n",
      "     1851.374  ]\n",
      "  [ -5739.0366    1448.5509  -13169.831   ...  -5849.755      845.1389\n",
      "     1850.8997 ]\n",
      "  [ -5738.667     1448.9474  -13169.506   ...  -5849.414      845.12024\n",
      "     1850.4202 ]]\n",
      "\n",
      " [[ -5716.4106    1443.819   -13184.517   ...  -5866.34       848.92096\n",
      "     1857.6189 ]\n",
      "  [ -5716.746     1443.6635  -13184.11    ...  -5866.055      848.794\n",
      "     1857.5603 ]\n",
      "  [ -5717.0317    1443.4756  -13183.762   ...  -5865.797      848.6859\n",
      "     1857.5161 ]\n",
      "  ...\n",
      "  [ -5708.2383    1445.1763  -13174.663   ...  -5854.6743     846.7606\n",
      "     1845.0955 ]\n",
      "  [ -5708.542     1444.5135  -13175.646   ...  -5855.9985     847.06726\n",
      "     1846.1548 ]\n",
      "  [ -5709.0767    1443.7689  -13176.56    ...  -5857.1416     847.33765\n",
      "     1847.3235 ]]\n",
      "\n",
      " [[ -5695.3887    1458.0967  -13160.684   ...  -5846.003      845.7201\n",
      "     1833.8889 ]\n",
      "  [ -5694.49      1459.0735  -13159.702   ...  -5848.713      845.94995\n",
      "     1834.3938 ]\n",
      "  [ -5693.5303    1460.0588  -13158.811   ...  -5851.4316     846.18494\n",
      "     1834.7695 ]\n",
      "  ...\n",
      "  [ -5682.218     1444.1135  -13164.817   ...  -5880.5015     850.0764\n",
      "     1857.8552 ]\n",
      "  [ -5682.958     1443.7517  -13164.499   ...  -5880.6475     850.04834\n",
      "     1857.3301 ]\n",
      "  [ -5683.8403    1443.2198  -13164.412   ...  -5880.6875     850.0123\n",
      "     1856.7373 ]]]\n",
      "(70, 1201, 21)\n",
      "[650, 651, 652, 653, 654, 655, 656, 657, 658, 659, 660, 661, 662, 663, 664, 665, 666, 667, 668, 669, 670, 671, 672, 673, 674, 675, 676, 677, 678, 679, 680, 681, 682, 683, 684, 685, 686, 687, 688, 689, 690, 691, 692, 693, 694, 695, 696, 697, 698, 699]\n"
     ]
    },
    {
     "name": "stderr",
     "output_type": "stream",
     "text": [
      "E:\\MIPT\\kurchatov\\diploma\\mi-eeg-diploma\\EEGnet\\data_proj_pursuit_v2.py:18: RuntimeWarning: Mean of empty slice.\n",
      "  baseline = np.expand_dims(X[:, bl_start:bl_end, :].mean(axis=1), axis=1)\n",
      "C:\\Users\\vaa09\\anaconda3\\envs\\nlp_course\\lib\\site-packages\\numpy\\core\\_methods.py:78: RuntimeWarning: invalid value encountered in true_divide\n",
      "  ret, rcount, out=ret, casting='unsafe', subok=False)\n"
     ]
    },
    {
     "ename": "IndexError",
     "evalue": "index 650 is out of bounds for axis 0 with size 70",
     "output_type": "error",
     "traceback": [
      "\u001B[1;31m---------------------------------------------------------------------------\u001B[0m",
      "\u001B[1;31mIndexError\u001B[0m                                Traceback (most recent call last)",
      "\u001B[1;32m<ipython-input-4-b20da90f691b>\u001B[0m in \u001B[0;36m<module>\u001B[1;34m()\u001B[0m\n\u001B[0;32m      8\u001B[0m \u001B[1;31m#                              resample_to=params['resample_to'])\u001B[0m\u001B[1;33m\u001B[0m\u001B[1;33m\u001B[0m\u001B[1;33m\u001B[0m\u001B[0m\n\u001B[0;32m      9\u001B[0m subjects = data.get_event_data(all_subjects, shuffle=False, window=[0.1, 0.2], baseline_window=(0.2, 0.3),\n\u001B[1;32m---> 10\u001B[1;33m                              event='cl1')\n\u001B[0m",
      "\u001B[1;32mE:\\MIPT\\kurchatov\\diploma\\mi-eeg-diploma\\EEGnet\\data_proj_pursuit_v2.py\u001B[0m in \u001B[0;36mget_event_data\u001B[1;34m(self, subj, event, resample_to, window, eeg_ch, baseline_window, shuffle)\u001B[0m\n\u001B[0;32m     53\u001B[0m         \u001B[0mtime_indices\u001B[0m\u001B[1;33m.\u001B[0m\u001B[0mextend\u001B[0m\u001B[1;33m(\u001B[0m\u001B[0mrange\u001B[0m\u001B[1;33m(\u001B[0m\u001B[0mstart_window_ind\u001B[0m\u001B[1;33m,\u001B[0m \u001B[0mend_window_ind\u001B[0m\u001B[1;33m)\u001B[0m\u001B[1;33m)\u001B[0m\u001B[1;33m\u001B[0m\u001B[1;33m\u001B[0m\u001B[0m\n\u001B[0;32m     54\u001B[0m         \u001B[0mprint\u001B[0m\u001B[1;33m(\u001B[0m\u001B[0mtime_indices\u001B[0m\u001B[1;33m)\u001B[0m\u001B[1;33m\u001B[0m\u001B[1;33m\u001B[0m\u001B[0m\n\u001B[1;32m---> 55\u001B[1;33m         \u001B[0meeg\u001B[0m \u001B[1;33m=\u001B[0m \u001B[0meeg\u001B[0m\u001B[1;33m[\u001B[0m\u001B[0mtime_indices\u001B[0m\u001B[1;33m,\u001B[0m \u001B[1;33m:\u001B[0m\u001B[1;33m,\u001B[0m \u001B[1;33m:\u001B[0m\u001B[1;33m]\u001B[0m\u001B[1;33m\u001B[0m\u001B[1;33m\u001B[0m\u001B[0m\n\u001B[0m\u001B[0;32m     56\u001B[0m \u001B[1;33m\u001B[0m\u001B[0m\n\u001B[0;32m     57\u001B[0m         \u001B[1;31m# if shuffle:\u001B[0m\u001B[1;33m\u001B[0m\u001B[1;33m\u001B[0m\u001B[1;33m\u001B[0m\u001B[0m\n",
      "\u001B[1;31mIndexError\u001B[0m: index 650 is out of bounds for axis 0 with size 70"
     ]
    }
   ],
   "source": [
    "# data = DataBuildClassifier('/home/likan_blk/BCI/NewData')\n",
    "data = DataBuildClassifier('./with ica')\n",
    "# all_subjects = [25, 26, 27, 28, 29, 30, 32, 33, 34, 35, 36, 37, 38]\n",
    "# all_subjects = [6, 7, 8, 9]\n",
    "all_subjects = 'subj 6'\n",
    "# subjects = data.get_event_data(all_subjects, event='cl1', shuffle=False, window=[(0.2, 0.5)], baseline_window=(0.2, 0.3),\n",
    "#                              resample_to=params['resample_to'])\n",
    "subjects = data.get_event_data(all_subjects, shuffle=False, window=[0.1, 0.2], baseline_window=(0.2, 0.3),\n",
    "                             event='cl1')"
   ]
  },
  {
   "cell_type": "code",
   "execution_count": null,
   "metadata": {},
   "outputs": [],
   "source": [
    "x,y = subjects[25][0], subjects[25][1]\n",
    "x = x.transpose(0,2,1)[:,np.newaxis,:,:]"
   ]
  },
  {
   "cell_type": "code",
   "execution_count": null,
   "metadata": {},
   "outputs": [],
   "source": [
    "kernLength1 = params.get('kernLength1',64)\n",
    "kernLength2 = params.get('kernLength2',16)\n",
    "F2 = params.get('F2',params['F1']*params['D'])\n",
    "model = EEGNet_experimental(nb_classes=2, Chans=subjects[25][0].shape[2], Samples = subjects[25][0].shape[1],\n",
    "                               dropoutRates=(params['dropoutRate1'], params['dropoutRate1']),\n",
    "                               kernLength1=kernLength1, kernLength2=kernLength2, poolKern1=4,\n",
    "                               poolKern2=8,\n",
    "                               F1=params['F1'],\n",
    "                               D=params['D'], F2=F2)\n",
    "# model.load_state_dict(torch.load('/home/likan_blk/BCI/eegnet_torch/res/cv_simple_ebci_torch/EEGNET_v4/25/naive_model'))\n",
    "model.load_state_dict(torch.load('./res/cv_simple_ebci_torch/EEGNET_v4/25/naive_model'))"
   ]
  },
  {
   "cell_type": "code",
   "execution_count": null,
   "metadata": {},
   "outputs": [],
   "source": [
    "spatial_filters = model.depthwise1.weight.cpu().detach().numpy()"
   ]
  },
  {
   "cell_type": "code",
   "execution_count": null,
   "metadata": {},
   "outputs": [],
   "source": [
    "def read_info(path_to_file):\n",
    "    with open(path_to_file,'r') as f:\n",
    "        content = f.readlines()\n",
    "    content = content[1:]\n",
    "    print(len(content))\n",
    "    res = np.zeros((len(content),2))\n",
    "    for i in range(len(content)):\n",
    "        splt_line = content[i].split()\n",
    "        res[i,0] = np.pi*float(splt_line[1])/180 + np.pi/2\n",
    "        res[i,1] = float(splt_line[2])\n",
    "    return res\n",
    "info = read_info('/home/likan_blk/BCI/NewData/order&locations.info')"
   ]
  },
  {
   "cell_type": "code",
   "execution_count": null,
   "metadata": {},
   "outputs": [],
   "source": [
    "plt.polar(info[:,0],info[:,1],'ro')"
   ]
  },
  {
   "cell_type": "code",
   "execution_count": null,
   "metadata": {},
   "outputs": [],
   "source": [
    "def pol2cart(phi,r ):\n",
    "    x = r * np.cos(phi)\n",
    "    y = r * np.sin(phi)\n",
    "    return np.vstack((x, y)).T\n",
    "cort_info = pol2cart(info[:,0], info[:,1])\n",
    "\n",
    "plt.scatter(cort_info[:,0],cort_info[:,1])"
   ]
  },
  {
   "cell_type": "code",
   "execution_count": null,
   "metadata": {},
   "outputs": [],
   "source": [
    "spatial_filters.shape"
   ]
  },
  {
   "cell_type": "code",
   "execution_count": null,
   "metadata": {
    "scrolled": false
   },
   "outputs": [],
   "source": [
    "mne.viz.plot_topomap(spatial_filters[0,0,:,0],cort_info)\n",
    "# mne.viz.plot_topomap(spatial_filters[1,0,:,0],cort_info)\n",
    "# mne.viz.plot_topomap(spatial_filters[2,0,:,0],cort_info)\n",
    "# mne.viz.plot_topomap(spatial_filters[3,0,:,0],cort_info)\n",
    "# mne.viz.plot_topomap(spatial_filters[4,0,:,0],cort_info)\n",
    "# mne.viz.plot_topomap(spatial_filters[5,0,:,0],cort_info)\n",
    "# mne.viz.plot_topomap(spatial_filters[6,0,:,0],cort_info)"
   ]
  },
  {
   "cell_type": "code",
   "execution_count": null,
   "metadata": {},
   "outputs": [],
   "source": [
    "first_output = model.conv1(torch.Tensor(torch.Tensor(x)))\n",
    "first_output.shape"
   ]
  },
  {
   "cell_type": "code",
   "execution_count": null,
   "metadata": {},
   "outputs": [],
   "source": [
    "weights = model.conv1.weight.detach().cpu().numpy()[:,0,0,:]"
   ]
  },
  {
   "cell_type": "code",
   "execution_count": null,
   "metadata": {},
   "outputs": [],
   "source": [
    "weights.shape"
   ]
  },
  {
   "cell_type": "code",
   "execution_count": null,
   "metadata": {},
   "outputs": [],
   "source": [
    "yf = fft(weights[4,:])\n",
    "xf = fftfreq(weights.shape[1], 1/params['resample_to'])\n",
    "xf = fftshift(xf)\n",
    "yplot = fftshift(yf)\n",
    "plt.plot(xf, 1.0/weights.shape[1] * np.abs(yplot))"
   ]
  },
  {
   "cell_type": "code",
   "execution_count": null,
   "metadata": {},
   "outputs": [],
   "source": [
    "fft(weights[4,:])"
   ]
  },
  {
   "cell_type": "code",
   "execution_count": null,
   "metadata": {
    "pycharm": {
     "name": "#%%\n"
    }
   },
   "outputs": [],
   "source": [
    "rfft(weights[4,:])"
   ]
  }
 ],
 "metadata": {
  "kernelspec": {
   "name": "pycharm-78350698",
   "language": "python",
   "display_name": "PyCharm (nlp)"
  },
  "language_info": {
   "codemirror_mode": {
    "name": "ipython",
    "version": 3
   },
   "file_extension": ".py",
   "mimetype": "text/x-python",
   "name": "python",
   "nbconvert_exporter": "python",
   "pygments_lexer": "ipython3",
   "version": "3.7.4"
  }
 },
 "nbformat": 4,
 "nbformat_minor": 2
}