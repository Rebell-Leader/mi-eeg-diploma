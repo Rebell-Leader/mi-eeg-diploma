{
 "cells": [
  {
   "cell_type": "code",
   "execution_count": 1,
   "metadata": {},
   "outputs": [
    {
     "ename": "ModuleNotFoundError",
     "evalue": "No module named 'mne'",
     "output_type": "error",
     "traceback": [
      "\u001B[1;31m---------------------------------------------------------------------------\u001B[0m",
      "\u001B[1;31mModuleNotFoundError\u001B[0m                       Traceback (most recent call last)",
      "\u001B[1;32m<ipython-input-1-0047ccee3822>\u001B[0m in \u001B[0;36m<module>\u001B[1;34m\u001B[0m\n\u001B[0;32m      9\u001B[0m \u001B[1;32mfrom\u001B[0m \u001B[0mscipy\u001B[0m\u001B[1;33m.\u001B[0m\u001B[0msignal\u001B[0m \u001B[1;32mimport\u001B[0m \u001B[0mwelch\u001B[0m\u001B[1;33m\u001B[0m\u001B[1;33m\u001B[0m\u001B[0m\n\u001B[0;32m     10\u001B[0m \u001B[1;32mfrom\u001B[0m \u001B[0mscipy\u001B[0m\u001B[1;33m.\u001B[0m\u001B[0mfftpack\u001B[0m \u001B[1;32mimport\u001B[0m \u001B[0mfft\u001B[0m\u001B[1;33m,\u001B[0m\u001B[0mrfft\u001B[0m\u001B[1;33m,\u001B[0m \u001B[0mfftshift\u001B[0m\u001B[1;33m,\u001B[0m \u001B[0mfftfreq\u001B[0m\u001B[1;33m,\u001B[0m \u001B[0mrfftfreq\u001B[0m\u001B[1;33m\u001B[0m\u001B[1;33m\u001B[0m\u001B[0m\n\u001B[1;32m---> 11\u001B[1;33m \u001B[1;32mimport\u001B[0m \u001B[0mmne\u001B[0m\u001B[1;33m\u001B[0m\u001B[1;33m\u001B[0m\u001B[0m\n\u001B[0m\u001B[0;32m     12\u001B[0m \u001B[1;32mimport\u001B[0m \u001B[0mmatplotlib\u001B[0m\u001B[1;33m.\u001B[0m\u001B[0mpyplot\u001B[0m \u001B[1;32mas\u001B[0m \u001B[0mplt\u001B[0m\u001B[1;33m\u001B[0m\u001B[1;33m\u001B[0m\u001B[0m\n\u001B[0;32m     13\u001B[0m \u001B[1;32mimport\u001B[0m \u001B[0mmatplotlib\u001B[0m\u001B[1;33m\u001B[0m\u001B[1;33m\u001B[0m\u001B[0m\n",
      "\u001B[1;31mModuleNotFoundError\u001B[0m: No module named 'mne'"
     ]
    }
   ],
   "source": [
    "import numpy as np\n",
    "import torch\n",
    "import os\n",
    "import sys\n",
    "sys.path.append(os.path.join(os.path.split(os.getcwd())[0],'data_loader'))\n",
    "from data import DataBuildClassifier\n",
    "# from bg.data_proj_pursuit_v2 import DataProjPursuit_v2 as DataBuildClassifier\n",
    "from src.model_torch import EEGNet_experimental\n",
    "from scipy.signal import welch\n",
    "from scipy.fftpack import fft,rfft, fftshift, fftfreq, rfftfreq\n",
    "import mne\n",
    "import matplotlib.pyplot as plt\n",
    "import matplotlib\n",
    "%matplotlib inline"
   ]
  },
  {
   "cell_type": "code",
   "execution_count": null,
   "metadata": {},
   "outputs": [],
   "source": [
    "params = {'resample_to': 369,\n",
    "                 'D': 3,\n",
    "                 'F1': 12,\n",
    "                 'dropoutRate1': 0.52,\n",
    "                 'dropoutRate2': 0.36,\n",
    "                 'lr': 0.00066,\n",
    "                 }"
   ]
  },
  {
   "cell_type": "code",
   "execution_count": null,
   "metadata": {},
   "outputs": [],
   "source": [
    "model = torch.load('./res/cv_simple_ebci_torch/EEGNET_v4/25/naive_model')"
   ]
  },
  {
   "cell_type": "code",
   "execution_count": null,
   "metadata": {},
   "outputs": [],
   "source": [
    "# data = DataBuildClassifier('/home/likan_blk/BCI/NewData')\n",
    "data = DataBuildClassifier('../with ica')\n",
    "# all_subjects = [25, 26, 27, 28, 29, 30, 32, 33, 34, 35, 36, 37, 38]\n",
    "# all_subjects = [6, 7, 8, 9]\n",
    "all_subjects = ['subj 6']\n",
    "subjects = data.get_event_data(all_subjects, event='cl1', shuffle=False, window=[(0.2, 0.5)], baseline_window=(0.2, 0.3),\n",
    "                             resample_to=params['resample_to'])"
   ]
  },
  {
   "cell_type": "code",
   "execution_count": null,
   "metadata": {},
   "outputs": [],
   "source": [
    "x,y = subjects[25][0], subjects[25][1]\n",
    "x = x.transpose(0,2,1)[:,np.newaxis,:,:]"
   ]
  },
  {
   "cell_type": "code",
   "execution_count": null,
   "metadata": {},
   "outputs": [],
   "source": [
    "kernLength1 = params.get('kernLength1',64)\n",
    "kernLength2 = params.get('kernLength2',16)\n",
    "F2 = params.get('F2',params['F1']*params['D'])\n",
    "model = EEGNet_experimental(nb_classes=2, Chans=subjects[25][0].shape[2], Samples = subjects[25][0].shape[1],\n",
    "                               dropoutRates=(params['dropoutRate1'], params['dropoutRate1']),\n",
    "                               kernLength1=kernLength1, kernLength2=kernLength2, poolKern1=4,\n",
    "                               poolKern2=8,\n",
    "                               F1=params['F1'],\n",
    "                               D=params['D'], F2=F2)\n",
    "model.load_state_dict(torch.load('/home/likan_blk/BCI/eegnet_torch/res/cv_simple_ebci_torch/EEGNET_v4/25/naive_model'))"
   ]
  },
  {
   "cell_type": "code",
   "execution_count": null,
   "metadata": {},
   "outputs": [],
   "source": [
    "spatial_filters = model.depthwise1.weight.cpu().detach().numpy()"
   ]
  },
  {
   "cell_type": "code",
   "execution_count": null,
   "metadata": {},
   "outputs": [],
   "source": [
    "def read_info(path_to_file):\n",
    "    with open(path_to_file,'r') as f:\n",
    "        content = f.readlines()\n",
    "    content = content[1:]\n",
    "    print(len(content))\n",
    "    res = np.zeros((len(content),2))\n",
    "    for i in range(len(content)):\n",
    "        splt_line = content[i].split()\n",
    "        res[i,0] = np.pi*float(splt_line[1])/180 + np.pi/2\n",
    "        res[i,1] = float(splt_line[2])\n",
    "    return res\n",
    "info = read_info('/home/likan_blk/BCI/NewData/order&locations.info')"
   ]
  },
  {
   "cell_type": "code",
   "execution_count": null,
   "metadata": {},
   "outputs": [],
   "source": [
    "plt.polar(info[:,0],info[:,1],'ro')"
   ]
  },
  {
   "cell_type": "code",
   "execution_count": null,
   "metadata": {},
   "outputs": [],
   "source": [
    "def pol2cart(phi,r ):\n",
    "    x = r * np.cos(phi)\n",
    "    y = r * np.sin(phi)\n",
    "    return np.vstack((x, y)).T\n",
    "cort_info = pol2cart(info[:,0], info[:,1])\n",
    "\n",
    "plt.scatter(cort_info[:,0],cort_info[:,1])"
   ]
  },
  {
   "cell_type": "code",
   "execution_count": null,
   "metadata": {},
   "outputs": [],
   "source": [
    "spatial_filters.shape"
   ]
  },
  {
   "cell_type": "code",
   "execution_count": null,
   "metadata": {
    "scrolled": false
   },
   "outputs": [],
   "source": [
    "mne.viz.plot_topomap(spatial_filters[0,0,:,0],cort_info)\n",
    "# mne.viz.plot_topomap(spatial_filters[1,0,:,0],cort_info)\n",
    "# mne.viz.plot_topomap(spatial_filters[2,0,:,0],cort_info)\n",
    "# mne.viz.plot_topomap(spatial_filters[3,0,:,0],cort_info)\n",
    "# mne.viz.plot_topomap(spatial_filters[4,0,:,0],cort_info)\n",
    "# mne.viz.plot_topomap(spatial_filters[5,0,:,0],cort_info)\n",
    "# mne.viz.plot_topomap(spatial_filters[6,0,:,0],cort_info)"
   ]
  },
  {
   "cell_type": "code",
   "execution_count": null,
   "metadata": {},
   "outputs": [],
   "source": [
    "first_output = model.conv1(torch.Tensor(torch.Tensor(x)))\n",
    "first_output.shape"
   ]
  },
  {
   "cell_type": "code",
   "execution_count": null,
   "metadata": {},
   "outputs": [],
   "source": [
    "weights = model.conv1.weight.detach().cpu().numpy()[:,0,0,:]"
   ]
  },
  {
   "cell_type": "code",
   "execution_count": null,
   "metadata": {},
   "outputs": [],
   "source": [
    "weights.shape"
   ]
  },
  {
   "cell_type": "code",
   "execution_count": null,
   "metadata": {},
   "outputs": [],
   "source": [
    "yf = fft(weights[4,:])\n",
    "xf = fftfreq(weights.shape[1], 1/params['resample_to'])\n",
    "xf = fftshift(xf)\n",
    "yplot = fftshift(yf)\n",
    "plt.plot(xf, 1.0/weights.shape[1] * np.abs(yplot))"
   ]
  },
  {
   "cell_type": "code",
   "execution_count": null,
   "metadata": {},
   "outputs": [],
   "source": [
    "fft(weights[4,:])"
   ]
  },
  {
   "cell_type": "code",
   "execution_count": null,
   "metadata": {},
   "outputs": [],
   "source": [
    "rfft(weights[4,:])"
   ]
  },
  {
   "cell_type": "code",
   "execution_count": null,
   "metadata": {},
   "outputs": [],
   "source": []
  },
  {
   "cell_type": "code",
   "execution_count": null,
   "outputs": [],
   "source": [],
   "metadata": {
    "collapsed": false,
    "pycharm": {
     "name": "#%%\n"
    }
   }
  }
 ],
 "metadata": {
  "kernelspec": {
   "name": "pycharm-76e906e9",
   "language": "python",
   "display_name": "PyCharm (mi-eeg-diploma)"
  },
  "language_info": {
   "codemirror_mode": {
    "name": "ipython",
    "version": 3
   },
   "file_extension": ".py",
   "mimetype": "text/x-python",
   "name": "python",
   "nbconvert_exporter": "python",
   "pygments_lexer": "ipython3",
   "version": "3.7.4"
  }
 },
 "nbformat": 4,
 "nbformat_minor": 2
}